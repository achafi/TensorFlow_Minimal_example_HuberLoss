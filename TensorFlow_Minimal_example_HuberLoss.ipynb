{
 "cells": [
  {
   "cell_type": "markdown",
   "metadata": {},
   "source": [
    "### TensorFlow Minimal Example of NN With Huber Loss Function\n",
    "**Hubert Loss** is an alternative of loss for regressions : The Huber loss is more appropriate than the L2-norm when we have outliers, as it is less sensitive to them (in our example we don't have outliers, but you will surely stumble upon a dataset with outliers in the future). The L2-norm loss puts all differences *to the square*, so outliers have a lot of influence on the outcome.  \n",
    "The proper syntax of the Huber loss is **tf.losses.huber_loss(labels, predictions)**."
   ]
  },
  {
   "cell_type": "markdown",
   "metadata": {},
   "source": [
    "### Import relevent Libraries"
   ]
  },
  {
   "cell_type": "code",
   "execution_count": 1,
   "metadata": {},
   "outputs": [],
   "source": [
    "import numpy as np \n",
    "import matplotlib.pyplot as plt\n",
    "import tensorflow as tf"
   ]
  },
  {
   "cell_type": "markdown",
   "metadata": {},
   "source": [
    "### Data generation "
   ]
  },
  {
   "cell_type": "code",
   "execution_count": 2,
   "metadata": {},
   "outputs": [],
   "source": [
    "# Data -> Preprocess -> save in .npz\n",
    "observations = 1000\n",
    "\n",
    "xs = np.random.uniform(-10 ,10, size = (observations, 1))\n",
    "zs = np.random.uniform(-10, 10, size = (observations, 1))\n",
    "\n",
    "generated_inputs = np.column_stack((xs,zs))\n",
    "\n",
    "noise = np.random.uniform(-1,1, (observations, 1))\n",
    "\n",
    "generated_targets = 2*xs - 3*zs + 5 + noise\n",
    "\n",
    "# Save data into .npz file (n-dimensional numpy array )\n",
    "\n",
    "np.savez(\"TF_intro\", inputs=generated_inputs, targets = generated_targets)"
   ]
  },
  {
   "cell_type": "markdown",
   "metadata": {},
   "source": [
    "### Solving with TensorFlow"
   ]
  },
  {
   "cell_type": "code",
   "execution_count": 3,
   "metadata": {},
   "outputs": [],
   "source": [
    "# Two variables that measures the size of our inputs and outputs\n",
    "input_size = 2\n",
    "output_size = 1"
   ]
  },
  {
   "cell_type": "markdown",
   "metadata": {},
   "source": [
    "### Outlining the Model "
   ]
  },
  {
   "cell_type": "code",
   "execution_count": 4,
   "metadata": {},
   "outputs": [
    {
     "name": "stdout",
     "output_type": "stream",
     "text": [
      "WARNING:tensorflow:From C:\\Users\\post\\Anaconda2\\lib\\site-packages\\tensorflow\\python\\framework\\op_def_library.py:263: colocate_with (from tensorflow.python.framework.ops) is deprecated and will be removed in a future version.\n",
      "Instructions for updating:\n",
      "Colocations handled automatically by placer.\n"
     ]
    }
   ],
   "source": [
    "# Creation of Tensorflow objects : \n",
    "# Feed data --> tf.placeholder \n",
    "# Vary --> tf.Variables\n",
    "# dot product-> tf.matmul\n",
    "\n",
    "# Creations of two placeholders, where we feed the data\n",
    "inputs = tf.placeholder(tf.float32, [None, input_size])\n",
    "targets = tf.placeholder(tf.float32, [None, output_size])\n",
    "# The None means we need not specify the dimension \n",
    "\n",
    "# Varibles : Weights and biases\n",
    "weights = tf.Variable(tf.random_uniform([input_size,output_size], minval=-0.1, maxval= 0.1))\n",
    "biases = tf.Variable(tf.random_uniform([output_size], minval=-0.1, maxval=0.1))\n",
    "\n",
    "# Outputs\n",
    "outputs = tf.matmul(inputs, weights) + biases"
   ]
  },
  {
   "cell_type": "markdown",
   "metadata": {},
   "source": [
    "### Choosing the objective function and optimization method"
   ]
  },
  {
   "cell_type": "code",
   "execution_count": 6,
   "metadata": {},
   "outputs": [],
   "source": [
    "# Define the objective function \n",
    "# tf is our library, we need a module that contain loss function: losses is a module that contains most of the commons Loss functions\n",
    "huber_loss = tf.losses.huber_loss(labels = targets, predictions = outputs)  \n",
    "\n",
    "# The optimization method\n",
    "optimize = tf.train.GradientDescentOptimizer(learning_rate=0.05).minimize(huber_loss)"
   ]
  },
  {
   "cell_type": "markdown",
   "metadata": {},
   "source": [
    "### Prepare for execution "
   ]
  },
  {
   "cell_type": "code",
   "execution_count": 7,
   "metadata": {},
   "outputs": [],
   "source": [
    "sess = tf.InteractiveSession()"
   ]
  },
  {
   "cell_type": "markdown",
   "metadata": {},
   "source": [
    "### Initializing variables"
   ]
  },
  {
   "cell_type": "code",
   "execution_count": 8,
   "metadata": {},
   "outputs": [],
   "source": [
    "# tf.global_variables_initializer() is a method that initializes all tensor objects \"marked\" as variables\n",
    "initializer = tf.global_variables_initializer()\n",
    "sess.run(initializer) # Running this line of code initialized the variables"
   ]
  },
  {
   "cell_type": "markdown",
   "metadata": {},
   "source": [
    "###  Loading training Data"
   ]
  },
  {
   "cell_type": "code",
   "execution_count": 9,
   "metadata": {},
   "outputs": [],
   "source": [
    "# np.load is a method which loads data from an npz. , .npy, or pickled files into an object \n",
    "training_data = np.load(\"TF_intro.npz\")"
   ]
  },
  {
   "cell_type": "markdown",
   "metadata": {},
   "source": [
    "### Learning "
   ]
  },
  {
   "cell_type": "code",
   "execution_count": 10,
   "metadata": {},
   "outputs": [
    {
     "name": "stdout",
     "output_type": "stream",
     "text": [
      "17.087458\n",
      "15.981475\n",
      "14.888013\n",
      "13.80972\n",
      "12.750179\n",
      "11.715139\n",
      "10.709087\n",
      "9.73633\n",
      "8.795964\n",
      "7.8905196\n",
      "7.039891\n",
      "6.27317\n",
      "5.616414\n",
      "5.0930624\n",
      "4.7094297\n",
      "4.459262\n",
      "4.3149443\n",
      "4.2268357\n",
      "4.1608076\n",
      "4.10303\n",
      "4.0485034\n",
      "3.9955747\n",
      "3.9436831\n",
      "3.8926818\n",
      "3.8425245\n",
      "3.7930796\n",
      "3.7442\n",
      "3.6958334\n",
      "3.6478872\n",
      "3.6002634\n",
      "3.5529068\n",
      "3.5057652\n",
      "3.4587817\n",
      "3.4119127\n",
      "3.3651285\n",
      "3.3184025\n",
      "3.2717242\n",
      "3.2250807\n",
      "3.1784635\n",
      "3.1318681\n",
      "3.0852895\n",
      "3.0387275\n",
      "2.9921768\n",
      "2.9456382\n",
      "2.8991094\n",
      "2.852591\n",
      "2.806082\n",
      "2.7595825\n",
      "2.7130928\n",
      "2.6666095\n",
      "2.6201365\n",
      "2.5736709\n",
      "2.5272129\n",
      "2.4807665\n",
      "2.434333\n",
      "2.3879125\n",
      "2.3415089\n",
      "2.295119\n",
      "2.2487476\n",
      "2.2023973\n",
      "2.1560707\n",
      "2.1097684\n",
      "2.0634892\n",
      "2.0172346\n",
      "1.9710047\n",
      "1.9248012\n",
      "1.8786231\n",
      "1.8324741\n",
      "1.7863556\n",
      "1.7402712\n",
      "1.6942217\n",
      "1.6482124\n",
      "1.6022449\n",
      "1.5563248\n",
      "1.5104707\n",
      "1.4646959\n",
      "1.4190048\n",
      "1.3734092\n",
      "1.3279258\n",
      "1.2825686\n",
      "1.2373706\n",
      "1.1923686\n",
      "1.1476055\n",
      "1.1031642\n",
      "1.0591557\n",
      "1.0157783\n",
      "0.97322243\n",
      "0.9316501\n",
      "0.89118654\n",
      "0.8518962\n",
      "0.8138323\n",
      "0.7770393\n",
      "0.7415825\n",
      "0.70750743\n",
      "0.67484653\n",
      "0.64361596\n",
      "0.61381537\n",
      "0.58542377\n",
      "0.55842406\n",
      "0.5327978\n"
     ]
    }
   ],
   "source": [
    "for e in range(100):\n",
    "    _,current_loss = sess.run([optimize, huber_loss],\n",
    "                             feed_dict = {inputs : training_data['inputs'] , targets : training_data['targets']})\n",
    "    print (current_loss)"
   ]
  },
  {
   "cell_type": "code",
   "execution_count": 11,
   "metadata": {},
   "outputs": [],
   "source": [
    "out = sess.run([outputs], \n",
    "               feed_dict={inputs: training_data['inputs']})"
   ]
  },
  {
   "cell_type": "markdown",
   "metadata": {},
   "source": [
    "### Plotting Data"
   ]
  },
  {
   "cell_type": "code",
   "execution_count": 12,
   "metadata": {},
   "outputs": [
    {
     "data": {
      "image/png": "[encoded data removed]",
      "text/plain": [
       "<Figure size 432x288 with 1 Axes>"
      ]
     },
     "metadata": {
      "needs_background": "light"
     },
     "output_type": "display_data"
    }
   ],
   "source": [
    "plt.plot(out[0], training_data['targets'])\n",
    "plt.xlabel('out')\n",
    "plt.ylabel('targets')\n",
    "plt.show()"
   ]
  },
  {
   "cell_type": "markdown",
   "metadata": {},
   "source": [
    "Some takeaways:\n",
    "\n",
    "Any function that has the property to be lower for better results and higher for worse results can be a loss function. This includes the Huber loss.\n",
    "Almost everything seems identical.\n",
    "The values of the loss are generally lower (because of the Huber loss formula, and the convexity of the two functions).\n",
    "For our problem, both the L2-norm loss and the Huber loss work equally well.\n",
    "Generally, the Huber loss is used when we have a lot of outliers."
   ]
  },
  {
   "cell_type": "code",
   "execution_count": null,
   "metadata": {},
   "outputs": [],
   "source": []
  }
 ],
 "metadata": {
  "kernelspec": {
   "display_name": "Python 3",
   "language": "python",
   "name": "python3"
  },
  "language_info": {
   "codemirror_mode": {
    "name": "ipython",
    "version": 3
   },
   "file_extension": ".py",
   "mimetype": "text/x-python",
   "name": "python",
   "nbconvert_exporter": "python",
   "pygments_lexer": "ipython3",
   "version": "3.6.8"
  }
 },
 "nbformat": 4,
 "nbformat_minor": 2
}
